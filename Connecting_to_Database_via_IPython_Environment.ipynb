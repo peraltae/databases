{
  "nbformat": 4,
  "nbformat_minor": 0,
  "metadata": {
    "colab": {
      "name": "Connecting to Database via IPython Environment",
      "provenance": [],
      "collapsed_sections": []
    },
    "kernelspec": {
      "name": "python3",
      "display_name": "Python 3"
    }
  },
  "cells": [
    {
      "cell_type": "markdown",
      "metadata": {
        "id": "EaCR3Ym2oepr",
        "colab_type": "text"
      },
      "source": [
        "<h1 align=center><font size = 6>Connecting to Databases via IPython Enviroment</font></h1>\n",
        "\n",
        "This notebook is an exercise in connecting to and working with a SQL database within an IPython enviroment. This is achieved in two approaches: \n",
        "\n",
        "* IPython SQl Magic Extension \n",
        "* SQLAlchemy \n",
        "\n",
        "I demonstrate how to complete create, read, update and delete (CRUD) operations with the database as well as import a large a dataset from a CSV file. "
      ]
    },
    {
      "cell_type": "markdown",
      "metadata": {
        "id": "vDqszg-mbOgH",
        "colab_type": "text"
      },
      "source": [
        "### **Connecting to IBM DB2 Database**\n",
        "\n",
        "To start, establish connectioin with the database that will be used throughout this notebook. [IBM DB2](https://cloud.ibm.com/services/dashdb-for-transactions/crn%3Av1%3Abluemix%3Apublic%3Adashdb-for-transactions%3Aus-south%3Aa%2F69a36a60aa3e4d0d99559669772442c0%3A35fa5e20-0495-4672-a7f2-61727118ffdc%3A%3A?paneId=gettingStarted) on Cloud is an SQL database provisioned in the cloud. \n",
        "\n"
      ]
    },
    {
      "cell_type": "code",
      "metadata": {
        "id": "rgg2fp-ub51R",
        "colab_type": "code",
        "colab": {}
      },
      "source": [
        "!pip install ibm_db_sa"
      ],
      "execution_count": null,
      "outputs": []
    },
    {
      "cell_type": "code",
      "metadata": {
        "id": "t-j3jkwwcjB7",
        "colab_type": "code",
        "colab": {}
      },
      "source": [
        "#Load IPython SQL Magic extension to write SQL queries directly into cell\n",
        "%load_ext sql"
      ],
      "execution_count": 2,
      "outputs": []
    },
    {
      "cell_type": "code",
      "metadata": {
        "id": "SAVsd20wbcVM",
        "colab_type": "code",
        "colab": {
          "base_uri": "https://localhost:8080/",
          "height": 36
        },
        "outputId": "df835744-5965-4baa-e872-9d6e81722d64"
      },
      "source": [
        "#Connect to personal IBM Db2 account using connection string URI\n",
        "%sql ibm_db_sa://[username]:[password]@[hostname]/[database]"
      ],
      "execution_count": 45,
      "outputs": [
        {
          "output_type": "execute_result",
          "data": {
            "application/vnd.google.colaboratory.intrinsic+json": {
              "type": "string"
            },
            "text/plain": [
              "'Connected: bvf50403@BLUDB'"
            ]
          },
          "metadata": {
            "tags": []
          },
          "execution_count": 45
        }
      ]
    },
    {
      "cell_type": "code",
      "metadata": {
        "id": "fhMrNj5Sq0p9",
        "colab_type": "code",
        "colab": {
          "base_uri": "https://localhost:8080/",
          "height": 72
        },
        "outputId": "bea9c770-580b-4bed-d7c1-4ed4bc15cd3b"
      },
      "source": [
        "#Create new table\n",
        "%sql create table WRITER(ID INT NOT NULL, first_name VARCHAR(20) NOT NULL, last_name VARCHAR(20) NOT NULL, year_of_death INT, PRIMARY KEY (ID))"
      ],
      "execution_count": 47,
      "outputs": [
        {
          "output_type": "stream",
          "text": [
            " * ibm_db_sa://bvf50403:***@dashdb-txn-sbox-yp-dal09-10.services.dal.bluemix.net/BLUDB\n",
            "Done.\n"
          ],
          "name": "stdout"
        },
        {
          "output_type": "execute_result",
          "data": {
            "text/plain": [
              "[]"
            ]
          },
          "metadata": {
            "tags": []
          },
          "execution_count": 47
        }
      ]
    },
    {
      "cell_type": "code",
      "metadata": {
        "id": "s_Q34y7q-Bzd",
        "colab_type": "code",
        "colab": {
          "base_uri": "https://localhost:8080/",
          "height": 72
        },
        "outputId": "9559c85a-22c9-49d5-f201-7ae4837bdb07"
      },
      "source": [
        "#Update: Insert values into table \n",
        "%sql insert into WRITER values(1, 'William', 'Shakespeare', 1616), (2, 'Bertold', 'Brecht', 1956), (3, 'Charles','Dickens', 1812)"
      ],
      "execution_count": 48,
      "outputs": [
        {
          "output_type": "stream",
          "text": [
            " * ibm_db_sa://bvf50403:***@dashdb-txn-sbox-yp-dal09-10.services.dal.bluemix.net/BLUDB\n",
            "3 rows affected.\n"
          ],
          "name": "stdout"
        },
        {
          "output_type": "execute_result",
          "data": {
            "text/plain": [
              "[]"
            ]
          },
          "metadata": {
            "tags": []
          },
          "execution_count": 48
        }
      ]
    },
    {
      "cell_type": "code",
      "metadata": {
        "id": "EZhV0IE2CBQJ",
        "colab_type": "code",
        "colab": {
          "base_uri": "https://localhost:8080/",
          "height": 141
        },
        "outputId": "0ad69990-9728-4fe3-8ce1-b2b0e07c0efe"
      },
      "source": [
        "#Read values from WRITER table\n",
        "%sql select * from WRITER "
      ],
      "execution_count": 49,
      "outputs": [
        {
          "output_type": "stream",
          "text": [
            " * ibm_db_sa://bvf50403:***@dashdb-txn-sbox-yp-dal09-10.services.dal.bluemix.net/BLUDB\n",
            "Done.\n"
          ],
          "name": "stdout"
        },
        {
          "output_type": "execute_result",
          "data": {
            "text/html": [
              "<table>\n",
              "    <tr>\n",
              "        <th>id</th>\n",
              "        <th>first_name</th>\n",
              "        <th>last_name</th>\n",
              "        <th>year_of_death</th>\n",
              "    </tr>\n",
              "    <tr>\n",
              "        <td>1</td>\n",
              "        <td>William</td>\n",
              "        <td>Shakespeare</td>\n",
              "        <td>1616</td>\n",
              "    </tr>\n",
              "    <tr>\n",
              "        <td>2</td>\n",
              "        <td>Bertold</td>\n",
              "        <td>Brecht</td>\n",
              "        <td>1956</td>\n",
              "    </tr>\n",
              "    <tr>\n",
              "        <td>3</td>\n",
              "        <td>Charles</td>\n",
              "        <td>Dickens</td>\n",
              "        <td>1812</td>\n",
              "    </tr>\n",
              "</table>"
            ],
            "text/plain": [
              "[(1, 'William', 'Shakespeare', 1616),\n",
              " (2, 'Bertold', 'Brecht', 1956),\n",
              " (3, 'Charles', 'Dickens', 1812)]"
            ]
          },
          "metadata": {
            "tags": []
          },
          "execution_count": 49
        }
      ]
    },
    {
      "cell_type": "code",
      "metadata": {
        "id": "SOTTu86bA-WO",
        "colab_type": "code",
        "colab": {
          "base_uri": "https://localhost:8080/",
          "height": 72
        },
        "outputId": "c777bd65-690a-433d-84ca-7cade978a8b0"
      },
      "source": [
        "#Delete WRITER table\n",
        "%sql drop table WRITER"
      ],
      "execution_count": 50,
      "outputs": [
        {
          "output_type": "stream",
          "text": [
            " * ibm_db_sa://bvf50403:***@dashdb-txn-sbox-yp-dal09-10.services.dal.bluemix.net/BLUDB\n",
            "Done.\n"
          ],
          "name": "stdout"
        },
        {
          "output_type": "execute_result",
          "data": {
            "text/plain": [
              "[]"
            ]
          },
          "metadata": {
            "tags": []
          },
          "execution_count": 50
        }
      ]
    },
    {
      "cell_type": "markdown",
      "metadata": {
        "id": "8K2ENNpYpvSC",
        "colab_type": "text"
      },
      "source": [
        "### **Using SQLAlchemy**\n",
        "\n",
        "[SQLAlchemy](https://www.sqlalchemy.org/) is a Python SQL toolkit and Object Relational Mapper (ORM) that gives applicaiton developers efficient and high-performing database access in a Pythonic domain language. \n",
        "    \n",
        "\n",
        "**Resources for SQLAlchemy**:\n",
        "* [Introductory Tutorial of Python’s SQLAlchemy](https://www.pythoncentral.io/introductory-tutorial-python-sqlalchemy/)\n",
        "*[Connecting to remote MySql instance with Google Co-lab](https://stackoverflow.com/questions/58201910/connecting-to-remote-mysql-instance-with-google-co-lab)\n",
        "*[Beginners Guide to SQLAlchemy](https://analyticsindiamag.com/beginners-guide-to-sqlalchemy-in-python-for-database-operations/)\n",
        "*[SQLAlchemy Basics Tutorial](https://leportella.com/sqlalchemy-tutorial.html)\n",
        "*[SQL Expression Language Tutorial](https://docs.sqlalchemy.org/en/13/core/tutorial.html) \n",
        "*[SQLAlchemy — Python Tutorial](https://towardsdatascience.com/sqlalchemy-python-tutorial-79a577141a91)\n"
      ]
    },
    {
      "cell_type": "code",
      "metadata": {
        "id": "sgOYsGssIGAr",
        "colab_type": "code",
        "colab": {}
      },
      "source": [
        "import sqlalchemy\n",
        "from sqlalchemy import create_engine\n",
        "from sqlalchemy import Table, Column, String, Integer, ForeignKey\n",
        "from sqlalchemy.orm import sessionmaker\n",
        "from sqlalchemy import MetaData\n",
        "from sqlalchemy.ext.declarative import declarative_base"
      ],
      "execution_count": 11,
      "outputs": []
    },
    {
      "cell_type": "code",
      "metadata": {
        "id": "0CorjI4FSkrd",
        "colab_type": "code",
        "colab": {}
      },
      "source": [
        "#SQLAlchemy engine works to interpret the DBAPI's moldule and behavior of the DB\n",
        "engine = create_engine('ibm_db_sa://bvf50403:k9c3hv1ngs@gk650@dashdb-txn-sbox-yp-dal09-10.services.dal.bluemix.net/BLUDB', echo=True)"
      ],
      "execution_count": 12,
      "outputs": []
    },
    {
      "cell_type": "code",
      "metadata": {
        "id": "XzmCTT4dwRrL",
        "colab_type": "code",
        "colab": {}
      },
      "source": [
        "#MetaData is a container obj that keeps tracks different features of a DB\n",
        "meta = MetaData()"
      ],
      "execution_count": 13,
      "outputs": []
    },
    {
      "cell_type": "code",
      "metadata": {
        "id": "RZyKU86f2FIr",
        "colab_type": "code",
        "colab": {
          "base_uri": "https://localhost:8080/",
          "height": 606
        },
        "outputId": "c0e27bfe-6181-4fbf-e937-dbd7e4399a26"
      },
      "source": [
        "#Create Table\n",
        "beatles = Table(\n",
        "   'beatles', meta, \n",
        "   Column('id', Integer, primary_key = True), \n",
        "   Column('name', String(20)), \n",
        "   Column('lastname', String(20)),\n",
        "   extend_existing=True,\n",
        ")\n",
        "\n",
        "meta.create_all(engine)\n",
        "print(\"Columns in table %s\" %(beatles.columns.keys()))"
      ],
      "execution_count": null,
      "outputs": [
        {
          "output_type": "stream",
          "text": [
            "2020-08-04 22:05:27,848 INFO sqlalchemy.engine.base.Engine SELECT \"SYSCAT\".\"TABLES\".\"TABNAME\" \n",
            "FROM \"SYSCAT\".\"TABLES\" \n",
            "WHERE \"SYSCAT\".\"TABLES\".\"TABSCHEMA\" = ? AND \"SYSCAT\".\"TABLES\".\"TABNAME\" = ?\n",
            "2020-08-04 22:05:27,849 INFO sqlalchemy.engine.base.Engine (b'BVF50403', b'STUDENTS')\n",
            "2020-08-04 22:05:28,209 INFO sqlalchemy.engine.base.Engine SELECT \"SYSCAT\".\"TABLES\".\"TABNAME\" \n",
            "FROM \"SYSCAT\".\"TABLES\" \n",
            "WHERE \"SYSCAT\".\"TABLES\".\"TABSCHEMA\" = ? AND \"SYSCAT\".\"TABLES\".\"TABNAME\" = ?\n",
            "2020-08-04 22:05:28,211 INFO sqlalchemy.engine.base.Engine (b'BVF50403', b'BEATLES')\n",
            "2020-08-04 22:05:28,571 INFO sqlalchemy.engine.base.Engine \n",
            "CREATE TABLE students (\n",
            "\tid INT NOT NULL GENERATED BY DEFAULT AS IDENTITY (START WITH 1), \n",
            "\tname VARCHAR(20), \n",
            "\tlastname VARCHAR(20), \n",
            "\tPRIMARY KEY (id)\n",
            ")\n",
            "\n",
            "\n",
            "2020-08-04 22:05:28,572 INFO sqlalchemy.engine.base.Engine ()\n",
            "2020-08-04 22:05:28,904 INFO sqlalchemy.engine.base.Engine COMMIT\n",
            "2020-08-04 22:05:29,089 INFO sqlalchemy.engine.base.Engine \n",
            "CREATE TABLE beatles (\n",
            "\tid INT NOT NULL GENERATED BY DEFAULT AS IDENTITY (START WITH 1), \n",
            "\tname VARCHAR(20), \n",
            "\tlastname VARCHAR(20), \n",
            "\tPRIMARY KEY (id)\n",
            ")\n",
            "\n",
            "\n",
            "2020-08-04 22:05:29,090 INFO sqlalchemy.engine.base.Engine ()\n",
            "2020-08-04 22:05:29,418 INFO sqlalchemy.engine.base.Engine COMMIT\n",
            "Columns in table ['id', 'name', 'lastname']\n"
          ],
          "name": "stdout"
        }
      ]
    },
    {
      "cell_type": "code",
      "metadata": {
        "id": "000OuWsGTD9Q",
        "colab_type": "code",
        "colab": {
          "base_uri": "https://localhost:8080/",
          "height": 110
        },
        "outputId": "6a3ee5f4-12e4-4841-8ef5-7dfc9fa84170"
      },
      "source": [
        "#Insert new values into table \n",
        "engine.connect().execute(beatles.insert(), [{'name': 'Paul', 'lastname': 'McCartney'},\n",
        "                                            {'name': 'John', 'lastname': 'Lennon'},\n",
        "                                            {'name':'George', 'lastname':'Harrison'},\n",
        "                                            {'name':'Pete', 'lastname':'Best'},\n",
        "])"
      ],
      "execution_count": null,
      "outputs": [
        {
          "output_type": "stream",
          "text": [
            "2020-08-04 22:05:34,360 INFO sqlalchemy.engine.base.Engine INSERT INTO beatles (name, lastname) VALUES (?, ?)\n",
            "2020-08-04 22:05:34,362 INFO sqlalchemy.engine.base.Engine (('Paul', 'McCartney'), ('John', 'Lennon'), ('George', 'Harrison'), ('Pete', 'Best'))\n",
            "2020-08-04 22:05:34,914 INFO sqlalchemy.engine.base.Engine COMMIT\n"
          ],
          "name": "stdout"
        },
        {
          "output_type": "execute_result",
          "data": {
            "text/plain": [
              "<sqlalchemy.engine.result.ResultProxy at 0x7f59df244588>"
            ]
          },
          "metadata": {
            "tags": []
          },
          "execution_count": 38
        }
      ]
    },
    {
      "cell_type": "code",
      "metadata": {
        "id": "PGJr2G5xd6aG",
        "colab_type": "code",
        "colab": {
          "base_uri": "https://localhost:8080/",
          "height": 166
        },
        "outputId": "d18689c6-bdad-4fc4-a4d3-229a5099c816"
      },
      "source": [
        "#Retrieve data\n",
        "engine.connect().execute(beatles.select()).fetchall()"
      ],
      "execution_count": null,
      "outputs": [
        {
          "output_type": "stream",
          "text": [
            "2020-08-04 22:05:43,884 INFO sqlalchemy.engine.base.Engine SELECT beatles.id, beatles.name, beatles.lastname \n",
            "FROM beatles\n",
            "2020-08-04 22:05:43,885 INFO sqlalchemy.engine.base.Engine ()\n"
          ],
          "name": "stdout"
        },
        {
          "output_type": "execute_result",
          "data": {
            "text/plain": [
              "[(1, 'Paul', 'McCartney'),\n",
              " (2, 'John', 'Lennon'),\n",
              " (3, 'George', 'Harrison'),\n",
              " (4, 'Pete', 'Best')]"
            ]
          },
          "metadata": {
            "tags": []
          },
          "execution_count": 39
        }
      ]
    },
    {
      "cell_type": "code",
      "metadata": {
        "id": "lSBL8n9yZMZd",
        "colab_type": "code",
        "colab": {
          "base_uri": "https://localhost:8080/",
          "height": 221
        },
        "outputId": "dbbacb28-79e4-4c2d-e2fb-befe7eaaf6f6"
      },
      "source": [
        "#Update table\n",
        "update= beatles.update().where(beatles.c.name=='Pete').values(name='Ringo', lastname='Starr')\n",
        "engine.connect().execute(update)\n",
        "engine.connect().execute(beatles.select()).fetchall()"
      ],
      "execution_count": null,
      "outputs": [
        {
          "output_type": "stream",
          "text": [
            "2020-08-04 22:05:47,188 INFO sqlalchemy.engine.base.Engine UPDATE beatles SET name=?, lastname=? WHERE beatles.name = ?\n",
            "2020-08-04 22:05:47,189 INFO sqlalchemy.engine.base.Engine ('Ringo', 'Starr', 'Pete')\n",
            "2020-08-04 22:05:47,561 INFO sqlalchemy.engine.base.Engine COMMIT\n",
            "2020-08-04 22:05:47,922 INFO sqlalchemy.engine.base.Engine SELECT beatles.id, beatles.name, beatles.lastname \n",
            "FROM beatles\n",
            "2020-08-04 22:05:47,923 INFO sqlalchemy.engine.base.Engine ()\n"
          ],
          "name": "stdout"
        },
        {
          "output_type": "execute_result",
          "data": {
            "text/plain": [
              "[(1, 'Paul', 'McCartney'),\n",
              " (2, 'John', 'Lennon'),\n",
              " (3, 'George', 'Harrison'),\n",
              " (4, 'Ringo', 'Starr')]"
            ]
          },
          "metadata": {
            "tags": []
          },
          "execution_count": 40
        }
      ]
    },
    {
      "cell_type": "code",
      "metadata": {
        "id": "CfdnxMsHgQEf",
        "colab_type": "code",
        "colab": {
          "base_uri": "https://localhost:8080/",
          "height": 250
        },
        "outputId": "a652513a-5de4-4e75-bf0c-51500665664a"
      },
      "source": [
        "#Convert table to Pandas data frame -- just to show flexibility of handling data \n",
        "import pandas as pd\n",
        "ResultSet = engine.connect().execute(beatles.select()).fetchall() \n",
        "df = pd.DataFrame(ResultSet)\n",
        "df.head()"
      ],
      "execution_count": null,
      "outputs": [
        {
          "output_type": "stream",
          "text": [
            "2020-08-04 22:07:38,731 INFO sqlalchemy.engine.base.Engine SELECT beatles.id, beatles.name, beatles.lastname \n",
            "FROM beatles\n",
            "2020-08-04 22:07:38,735 INFO sqlalchemy.engine.base.Engine ()\n"
          ],
          "name": "stdout"
        },
        {
          "output_type": "execute_result",
          "data": {
            "text/html": [
              "<div>\n",
              "<style scoped>\n",
              "    .dataframe tbody tr th:only-of-type {\n",
              "        vertical-align: middle;\n",
              "    }\n",
              "\n",
              "    .dataframe tbody tr th {\n",
              "        vertical-align: top;\n",
              "    }\n",
              "\n",
              "    .dataframe thead th {\n",
              "        text-align: right;\n",
              "    }\n",
              "</style>\n",
              "<table border=\"1\" class=\"dataframe\">\n",
              "  <thead>\n",
              "    <tr style=\"text-align: right;\">\n",
              "      <th></th>\n",
              "      <th>0</th>\n",
              "      <th>1</th>\n",
              "      <th>2</th>\n",
              "    </tr>\n",
              "  </thead>\n",
              "  <tbody>\n",
              "    <tr>\n",
              "      <th>0</th>\n",
              "      <td>1</td>\n",
              "      <td>Paul</td>\n",
              "      <td>McCartney</td>\n",
              "    </tr>\n",
              "    <tr>\n",
              "      <th>1</th>\n",
              "      <td>2</td>\n",
              "      <td>John</td>\n",
              "      <td>Lennon</td>\n",
              "    </tr>\n",
              "    <tr>\n",
              "      <th>2</th>\n",
              "      <td>3</td>\n",
              "      <td>George</td>\n",
              "      <td>Harrison</td>\n",
              "    </tr>\n",
              "    <tr>\n",
              "      <th>3</th>\n",
              "      <td>4</td>\n",
              "      <td>Ringo</td>\n",
              "      <td>Starr</td>\n",
              "    </tr>\n",
              "  </tbody>\n",
              "</table>\n",
              "</div>"
            ],
            "text/plain": [
              "   0       1          2\n",
              "0  1    Paul  McCartney\n",
              "1  2    John     Lennon\n",
              "2  3  George   Harrison\n",
              "3  4   Ringo      Starr"
            ]
          },
          "metadata": {
            "tags": []
          },
          "execution_count": 41
        }
      ]
    },
    {
      "cell_type": "code",
      "metadata": {
        "id": "yLx5VZ7FV4cQ",
        "colab_type": "code",
        "colab": {
          "base_uri": "https://localhost:8080/",
          "height": 90
        },
        "outputId": "691617e1-71ce-43f2-e7f1-1d32e22ce37c"
      },
      "source": [
        "#Delete table \n",
        "beatles.drop(engine)"
      ],
      "execution_count": null,
      "outputs": [
        {
          "output_type": "stream",
          "text": [
            "2020-08-04 22:07:56,253 INFO sqlalchemy.engine.base.Engine \n",
            "DROP TABLE beatles\n",
            "2020-08-04 22:07:56,254 INFO sqlalchemy.engine.base.Engine ()\n",
            "2020-08-04 22:07:56,471 INFO sqlalchemy.engine.base.Engine COMMIT\n"
          ],
          "name": "stdout"
        }
      ]
    },
    {
      "cell_type": "markdown",
      "metadata": {
        "id": "RHBexUyYoqrZ",
        "colab_type": "text"
      },
      "source": [
        "### **Importing Large Data Set to Database Using SQLAlchemy**\n",
        "\n",
        "In this step, a large dataset is imported to my connected database using SQLAlchemy and Pandas operations\n",
        "\n",
        "**About the dataset**: This dataset consists of tv shows and movies available on Netflix as of 2019. The dataset is collected from Flixable which is a third-party Netflix search engine. "
      ]
    },
    {
      "cell_type": "code",
      "metadata": {
        "id": "DzRgPFMwIBEi",
        "colab_type": "code",
        "colab": {
          "base_uri": "https://localhost:8080/",
          "height": 239
        },
        "outputId": "0e8a576e-5eae-4384-e626-30d93bbc895d"
      },
      "source": [
        "#Retrieve dataset\n",
        "!wget -O netflix_titles.csv https://raw.githubusercontent.com/peraltae/databases/master/netflix_titles.csv"
      ],
      "execution_count": 7,
      "outputs": [
        {
          "output_type": "stream",
          "text": [
            "--2020-08-05 17:27:30--  https://raw.githubusercontent.com/peraltae/databases/master/netflix_titles.csv\n",
            "Resolving raw.githubusercontent.com (raw.githubusercontent.com)... 151.101.0.133, 151.101.64.133, 151.101.128.133, ...\n",
            "Connecting to raw.githubusercontent.com (raw.githubusercontent.com)|151.101.0.133|:443... connected.\n",
            "HTTP request sent, awaiting response... 200 OK\n",
            "Length: 2410660 (2.3M) [text/plain]\n",
            "Saving to: ‘netflix_titles.csv’\n",
            "\n",
            "netflix_titles.csv  100%[===================>]   2.30M  14.3MB/s    in 0.2s    \n",
            "\n",
            "2020-08-05 17:27:30 (14.3 MB/s) - ‘netflix_titles.csv’ saved [2410660/2410660]\n",
            "\n"
          ],
          "name": "stdout"
        }
      ]
    },
    {
      "cell_type": "code",
      "metadata": {
        "id": "4NWQjvwnKVq3",
        "colab_type": "code",
        "colab": {
          "base_uri": "https://localhost:8080/",
          "height": 696
        },
        "outputId": "ba1c7840-db37-450a-8b8f-748d1eabcdc0"
      },
      "source": [
        "import pandas as pd\n",
        "df = pd.read_csv('/content/netflix_titles.csv')\n",
        "print('Shape:', df.shape)\n",
        "df.head()"
      ],
      "execution_count": 44,
      "outputs": [
        {
          "output_type": "stream",
          "text": [
            "Shape: (6234, 12)\n"
          ],
          "name": "stdout"
        },
        {
          "output_type": "execute_result",
          "data": {
            "text/html": [
              "<div>\n",
              "<style scoped>\n",
              "    .dataframe tbody tr th:only-of-type {\n",
              "        vertical-align: middle;\n",
              "    }\n",
              "\n",
              "    .dataframe tbody tr th {\n",
              "        vertical-align: top;\n",
              "    }\n",
              "\n",
              "    .dataframe thead th {\n",
              "        text-align: right;\n",
              "    }\n",
              "</style>\n",
              "<table border=\"1\" class=\"dataframe\">\n",
              "  <thead>\n",
              "    <tr style=\"text-align: right;\">\n",
              "      <th></th>\n",
              "      <th>show_id</th>\n",
              "      <th>type</th>\n",
              "      <th>title</th>\n",
              "      <th>director</th>\n",
              "      <th>cast</th>\n",
              "      <th>country</th>\n",
              "      <th>date_added</th>\n",
              "      <th>release_year</th>\n",
              "      <th>rating</th>\n",
              "      <th>duration</th>\n",
              "      <th>listed_in</th>\n",
              "      <th>description</th>\n",
              "    </tr>\n",
              "  </thead>\n",
              "  <tbody>\n",
              "    <tr>\n",
              "      <th>0</th>\n",
              "      <td>81145628</td>\n",
              "      <td>Movie</td>\n",
              "      <td>Norm of the North: King Sized Adventure</td>\n",
              "      <td>Richard Finn, Tim Maltby</td>\n",
              "      <td>Alan Marriott, Andrew Toth, Brian Dobson, Cole...</td>\n",
              "      <td>United States, India, South Korea, China</td>\n",
              "      <td>September 9, 2019</td>\n",
              "      <td>2019</td>\n",
              "      <td>TV-PG</td>\n",
              "      <td>90 min</td>\n",
              "      <td>Children &amp; Family Movies, Comedies</td>\n",
              "      <td>Before planning an awesome wedding for his gra...</td>\n",
              "    </tr>\n",
              "    <tr>\n",
              "      <th>1</th>\n",
              "      <td>80117401</td>\n",
              "      <td>Movie</td>\n",
              "      <td>Jandino: Whatever it Takes</td>\n",
              "      <td>NaN</td>\n",
              "      <td>Jandino Asporaat</td>\n",
              "      <td>United Kingdom</td>\n",
              "      <td>September 9, 2016</td>\n",
              "      <td>2016</td>\n",
              "      <td>TV-MA</td>\n",
              "      <td>94 min</td>\n",
              "      <td>Stand-Up Comedy</td>\n",
              "      <td>Jandino Asporaat riffs on the challenges of ra...</td>\n",
              "    </tr>\n",
              "    <tr>\n",
              "      <th>2</th>\n",
              "      <td>70234439</td>\n",
              "      <td>TV Show</td>\n",
              "      <td>Transformers Prime</td>\n",
              "      <td>NaN</td>\n",
              "      <td>Peter Cullen, Sumalee Montano, Frank Welker, J...</td>\n",
              "      <td>United States</td>\n",
              "      <td>September 8, 2018</td>\n",
              "      <td>2013</td>\n",
              "      <td>TV-Y7-FV</td>\n",
              "      <td>1 Season</td>\n",
              "      <td>Kids' TV</td>\n",
              "      <td>With the help of three human allies, the Autob...</td>\n",
              "    </tr>\n",
              "    <tr>\n",
              "      <th>3</th>\n",
              "      <td>80058654</td>\n",
              "      <td>TV Show</td>\n",
              "      <td>Transformers: Robots in Disguise</td>\n",
              "      <td>NaN</td>\n",
              "      <td>Will Friedle, Darren Criss, Constance Zimmer, ...</td>\n",
              "      <td>United States</td>\n",
              "      <td>September 8, 2018</td>\n",
              "      <td>2016</td>\n",
              "      <td>TV-Y7</td>\n",
              "      <td>1 Season</td>\n",
              "      <td>Kids' TV</td>\n",
              "      <td>When a prison ship crash unleashes hundreds of...</td>\n",
              "    </tr>\n",
              "    <tr>\n",
              "      <th>4</th>\n",
              "      <td>80125979</td>\n",
              "      <td>Movie</td>\n",
              "      <td>#realityhigh</td>\n",
              "      <td>Fernando Lebrija</td>\n",
              "      <td>Nesta Cooper, Kate Walsh, John Michael Higgins...</td>\n",
              "      <td>United States</td>\n",
              "      <td>September 8, 2017</td>\n",
              "      <td>2017</td>\n",
              "      <td>TV-14</td>\n",
              "      <td>99 min</td>\n",
              "      <td>Comedies</td>\n",
              "      <td>When nerdy high schooler Dani finally attracts...</td>\n",
              "    </tr>\n",
              "  </tbody>\n",
              "</table>\n",
              "</div>"
            ],
            "text/plain": [
              "    show_id  ...                                        description\n",
              "0  81145628  ...  Before planning an awesome wedding for his gra...\n",
              "1  80117401  ...  Jandino Asporaat riffs on the challenges of ra...\n",
              "2  70234439  ...  With the help of three human allies, the Autob...\n",
              "3  80058654  ...  When a prison ship crash unleashes hundreds of...\n",
              "4  80125979  ...  When nerdy high schooler Dani finally attracts...\n",
              "\n",
              "[5 rows x 12 columns]"
            ]
          },
          "metadata": {
            "tags": []
          },
          "execution_count": 44
        }
      ]
    },
    {
      "cell_type": "code",
      "metadata": {
        "id": "hP3NepI9Sa-E",
        "colab_type": "code",
        "colab": {
          "base_uri": "https://localhost:8080/",
          "height": 256
        },
        "outputId": "44274346-3c18-47e9-a1c5-28b48b18af5c"
      },
      "source": [
        "df.dtypes"
      ],
      "execution_count": 9,
      "outputs": [
        {
          "output_type": "execute_result",
          "data": {
            "text/plain": [
              "show_id          int64\n",
              "type            object\n",
              "title           object\n",
              "director        object\n",
              "cast            object\n",
              "country         object\n",
              "date_added      object\n",
              "release_year     int64\n",
              "rating          object\n",
              "duration        object\n",
              "listed_in       object\n",
              "description     object\n",
              "dtype: object"
            ]
          },
          "metadata": {
            "tags": []
          },
          "execution_count": 9
        }
      ]
    },
    {
      "cell_type": "code",
      "metadata": {
        "id": "yBF6KIL7vMYy",
        "colab_type": "code",
        "colab": {}
      },
      "source": [
        "#Create new MetaData object\n",
        "metaNet = MetaData()"
      ],
      "execution_count": 33,
      "outputs": []
    },
    {
      "cell_type": "code",
      "metadata": {
        "id": "oP4pdcX-uoW1",
        "colab_type": "code",
        "colab": {}
      },
      "source": [
        "#Create table for incoming data\n",
        "netflix_titles = Table('netflix_titles', metaNet,\n",
        "                    Column('show_id', Integer, primary_key=True), \n",
        "                    Column('type', String(20)),\n",
        "                    Column('title', String(20)),\n",
        "                    Column('title', String(20)),\n",
        "                    Column('director', String(20)),\n",
        "                    Column('cast', String(200)),\n",
        "                    Column('country', String(20)),\n",
        "                    Column('date_added', Integer),\n",
        "                    Column('release_year', Integer),\n",
        "                    Column('rating', String(20)),\n",
        "                    Column('duration', String(20)),\n",
        "                    Column('listed_in', String(20)),\n",
        "                    Column('description', String(200)),\n",
        "  )"
      ],
      "execution_count": 34,
      "outputs": []
    },
    {
      "cell_type": "code",
      "metadata": {
        "id": "eOBeXHx2v8iv",
        "colab_type": "code",
        "colab": {
          "base_uri": "https://localhost:8080/",
          "height": 496
        },
        "outputId": "7598b34b-9ff1-4e99-ed74-ea66159c0b0f"
      },
      "source": [
        "metaNet.create_all(engine)\n",
        "print(\"Columns in table %s\" %(netflix_titles.columns.keys()))"
      ],
      "execution_count": 35,
      "outputs": [
        {
          "output_type": "stream",
          "text": [
            "2020-08-05 17:53:25,760 INFO sqlalchemy.engine.base.Engine SELECT \"SYSCAT\".\"TABLES\".\"TABNAME\" \n",
            "FROM \"SYSCAT\".\"TABLES\" \n",
            "WHERE \"SYSCAT\".\"TABLES\".\"TABSCHEMA\" = ? AND \"SYSCAT\".\"TABLES\".\"TABNAME\" = ?\n",
            "2020-08-05 17:53:25,762 INFO sqlalchemy.engine.base.Engine (b'BVF50403', b'NETFLIX_TITLES')\n",
            "2020-08-05 17:53:25,835 INFO sqlalchemy.engine.base.Engine \n",
            "CREATE TABLE netflix_titles (\n",
            "\tshow_id INT NOT NULL GENERATED BY DEFAULT AS IDENTITY (START WITH 1), \n",
            "\t\"type\" VARCHAR(20), \n",
            "\ttitle VARCHAR(20), \n",
            "\tdirector VARCHAR(20), \n",
            "\t\"cast\" VARCHAR(200), \n",
            "\tcountry VARCHAR(20), \n",
            "\tdate_added INT, \n",
            "\trelease_year INT, \n",
            "\trating VARCHAR(20), \n",
            "\tduration VARCHAR(20), \n",
            "\tlisted_in VARCHAR(20), \n",
            "\tdescription VARCHAR(200), \n",
            "\tPRIMARY KEY (show_id)\n",
            ")\n",
            "\n",
            "\n",
            "2020-08-05 17:53:25,837 INFO sqlalchemy.engine.base.Engine ()\n",
            "2020-08-05 17:53:26,026 INFO sqlalchemy.engine.base.Engine COMMIT\n",
            "Columns in table ['show_id', 'type', 'title', 'director', 'cast', 'country', 'date_added', 'release_year', 'rating', 'duration', 'listed_in', 'description']\n"
          ],
          "name": "stdout"
        }
      ]
    },
    {
      "cell_type": "code",
      "metadata": {
        "id": "z9pS3J_Mbsc9",
        "colab_type": "code",
        "colab": {
          "base_uri": "https://localhost:8080/",
          "height": 1000
        },
        "outputId": "35c214db-fa59-47ef-ec30-83ebba173563"
      },
      "source": [
        "#Import CSV to database using Pandas\n",
        "%time df.to_sql(con=engine, name='netflix_titles',if_exists='replace')"
      ],
      "execution_count": 36,
      "outputs": [
        {
          "output_type": "stream",
          "text": [
            "2020-08-05 17:53:40,089 INFO sqlalchemy.engine.base.Engine SELECT \"SYSCAT\".\"TABLES\".\"TABNAME\" \n",
            "FROM \"SYSCAT\".\"TABLES\" \n",
            "WHERE \"SYSCAT\".\"TABLES\".\"TABSCHEMA\" = ? AND \"SYSCAT\".\"TABLES\".\"TABNAME\" = ?\n",
            "2020-08-05 17:53:40,091 INFO sqlalchemy.engine.base.Engine (b'BVF50403', b'NETFLIX_TITLES')\n",
            "2020-08-05 17:53:40,200 INFO sqlalchemy.engine.base.Engine SELECT \"SYSCAT\".\"TABLES\".\"TABNAME\" \n",
            "FROM \"SYSCAT\".\"TABLES\" \n",
            "WHERE \"SYSCAT\".\"TABLES\".\"TABSCHEMA\" = ? AND \"SYSCAT\".\"TABLES\".\"TABNAME\" = ?\n",
            "2020-08-05 17:53:40,201 INFO sqlalchemy.engine.base.Engine (b'BVF50403', b'NETFLIX_TITLES')\n",
            "2020-08-05 17:53:40,310 INFO sqlalchemy.engine.base.Engine SELECT \"SYSCAT\".\"TABLES\".\"TABNAME\" \n",
            "FROM \"SYSCAT\".\"TABLES\" \n",
            "WHERE \"SYSCAT\".\"TABLES\".\"TYPE\" = ? AND \"SYSCAT\".\"TABLES\".\"TABSCHEMA\" = ? ORDER BY \"SYSCAT\".\"TABLES\".\"TABNAME\"\n",
            "2020-08-05 17:53:40,311 INFO sqlalchemy.engine.base.Engine (b'T', b'BVF50403')\n",
            "2020-08-05 17:53:40,387 INFO sqlalchemy.engine.base.Engine SELECT \"SYSCAT\".\"COLUMNS\".\"COLNAME\", \"SYSCAT\".\"COLUMNS\".\"TYPENAME\", \"SYSCAT\".\"COLUMNS\".\"DEFAULT\", \"SYSCAT\".\"COLUMNS\".\"NULLS\", \"SYSCAT\".\"COLUMNS\".\"LENGTH\", \"SYSCAT\".\"COLUMNS\".\"SCALE\", \"SYSCAT\".\"COLUMNS\".\"IDENTITY\", \"SYSCAT\".\"COLUMNS\".\"GENERATED\" \n",
            "FROM \"SYSCAT\".\"COLUMNS\" \n",
            "WHERE \"SYSCAT\".\"COLUMNS\".\"TABSCHEMA\" = ? AND \"SYSCAT\".\"COLUMNS\".\"TABNAME\" = ? ORDER BY \"SYSCAT\".\"COLUMNS\".\"COLNO\"\n",
            "2020-08-05 17:53:40,388 INFO sqlalchemy.engine.base.Engine (b'BVF50403', b'NETFLIX_TITLES')\n",
            "2020-08-05 17:53:40,498 INFO sqlalchemy.engine.base.Engine SELECT \"SYSCAT\".\"INDEXES\".\"COLNAMES\" \n",
            "FROM \"SYSCAT\".\"INDEXES\" \n",
            "WHERE \"SYSCAT\".\"INDEXES\".\"TABSCHEMA\" = ? AND \"SYSCAT\".\"INDEXES\".\"TABNAME\" = ? AND \"SYSCAT\".\"INDEXES\".\"UNIQUERULE\" = ? ORDER BY \"SYSCAT\".\"INDEXES\".\"TABSCHEMA\", \"SYSCAT\".\"INDEXES\".\"TABNAME\"\n",
            "2020-08-05 17:53:40,499 INFO sqlalchemy.engine.base.Engine (b'BVF50403', b'NETFLIX_TITLES', b'P')\n",
            "2020-08-05 17:53:40,598 INFO sqlalchemy.engine.base.Engine SELECT \"SYSIBM\".\"SQLFOREIGNKEYS\".\"FK_NAME\", \"SYSIBM\".\"SQLFOREIGNKEYS\".\"FKTABLE_SCHEM\", \"SYSIBM\".\"SQLFOREIGNKEYS\".\"FKTABLE_NAME\", \"SYSIBM\".\"SQLFOREIGNKEYS\".\"FKCOLUMN_NAME\", \"SYSIBM\".\"SQLFOREIGNKEYS\".\"PK_NAME\", \"SYSIBM\".\"SQLFOREIGNKEYS\".\"PKTABLE_SCHEM\", \"SYSIBM\".\"SQLFOREIGNKEYS\".\"PKTABLE_NAME\", \"SYSIBM\".\"SQLFOREIGNKEYS\".\"PKCOLUMN_NAME\" \n",
            "FROM \"SYSIBM\".\"SQLFOREIGNKEYS\" \n",
            "WHERE \"SYSIBM\".\"SQLFOREIGNKEYS\".\"FKTABLE_SCHEM\" = ? AND \"SYSIBM\".\"SQLFOREIGNKEYS\".\"FKTABLE_NAME\" = ? ORDER BY \"SYSIBM\".\"SQLFOREIGNKEYS\".\"KEY_SEQ\"\n",
            "2020-08-05 17:53:40,599 INFO sqlalchemy.engine.base.Engine (b'BVF50403', b'NETFLIX_TITLES')\n",
            "2020-08-05 17:53:40,743 INFO sqlalchemy.engine.base.Engine SELECT \"SYSCAT\".\"INDEXES\".\"INDNAME\", \"SYSCAT\".\"INDEXES\".\"COLNAMES\", \"SYSCAT\".\"INDEXES\".\"UNIQUERULE\", \"SYSCAT\".\"INDEXES\".\"SYSTEM_REQUIRED\" \n",
            "FROM \"SYSCAT\".\"INDEXES\" \n",
            "WHERE \"SYSCAT\".\"INDEXES\".\"TABSCHEMA\" = ? AND \"SYSCAT\".\"INDEXES\".\"TABNAME\" = ? ORDER BY \"SYSCAT\".\"INDEXES\".\"TABNAME\"\n",
            "2020-08-05 17:53:40,744 INFO sqlalchemy.engine.base.Engine (b'BVF50403', b'NETFLIX_TITLES')\n",
            "2020-08-05 17:53:40,817 INFO sqlalchemy.engine.base.Engine SELECT \"SYSCAT\".\"KEYCOLUSE\".\"CONSTNAME\", \"SYSCAT\".\"KEYCOLUSE\".\"COLNAME\" \n",
            "FROM \"SYSCAT\".\"KEYCOLUSE\", \"SYSCAT\".\"TABCONST\" \n",
            "WHERE \"SYSCAT\".\"KEYCOLUSE\".\"CONSTNAME\" = \"SYSCAT\".\"TABCONST\".\"CONSTNAME\" AND \"SYSCAT\".\"TABCONST\".\"TABNAME\" = ? AND \"SYSCAT\".\"TABCONST\".\"TABSCHEMA\" = ? AND \"SYSCAT\".\"TABCONST\".\"TYPE\" = ? ORDER BY \"SYSCAT\".\"KEYCOLUSE\".\"CONSTNAME\"\n",
            "2020-08-05 17:53:40,818 INFO sqlalchemy.engine.base.Engine (b'NETFLIX_TITLES', b'BVF50403', b'U')\n",
            "2020-08-05 17:53:40,927 INFO sqlalchemy.engine.base.Engine \n",
            "DROP TABLE netflix_titles\n",
            "2020-08-05 17:53:40,928 INFO sqlalchemy.engine.base.Engine ()\n",
            "2020-08-05 17:53:41,001 INFO sqlalchemy.engine.base.Engine COMMIT\n",
            "2020-08-05 17:53:41,096 INFO sqlalchemy.engine.base.Engine \n",
            "CREATE TABLE netflix_titles (\n",
            "\t\"index\" BIGINT, \n",
            "\tshow_id BIGINT, \n",
            "\t\"type\" CLOB, \n",
            "\ttitle CLOB, \n",
            "\tdirector CLOB, \n",
            "\t\"cast\" CLOB, \n",
            "\tcountry CLOB, \n",
            "\tdate_added CLOB, \n",
            "\trelease_year BIGINT, \n",
            "\trating CLOB, \n",
            "\tduration CLOB, \n",
            "\tlisted_in CLOB, \n",
            "\tdescription CLOB\n",
            ")\n",
            "\n",
            "\n",
            "2020-08-05 17:53:41,097 INFO sqlalchemy.engine.base.Engine ()\n",
            "2020-08-05 17:53:41,300 INFO sqlalchemy.engine.base.Engine COMMIT\n",
            "2020-08-05 17:53:41,346 INFO sqlalchemy.engine.base.Engine CREATE INDEX ix_netflix_titles_index ON netflix_titles (\"index\")\n",
            "2020-08-05 17:53:41,347 INFO sqlalchemy.engine.base.Engine ()\n",
            "2020-08-05 17:53:41,469 INFO sqlalchemy.engine.base.Engine COMMIT\n",
            "2020-08-05 17:53:41,553 INFO sqlalchemy.engine.base.Engine BEGIN (implicit)\n",
            "2020-08-05 17:53:41,618 INFO sqlalchemy.engine.base.Engine INSERT INTO netflix_titles (\"index\", show_id, \"type\", title, director, \"cast\", country, date_added, release_year, rating, duration, listed_in, description) VALUES (?, ?, ?, ?, ?, ?, ?, ?, ?, ?, ?, ?, ?)\n",
            "2020-08-05 17:53:41,619 INFO sqlalchemy.engine.base.Engine ((0, 81145628, 'Movie', 'Norm of the North: King Sized Adventure', 'Richard Finn, Tim Maltby', 'Alan Marriott, Andrew Toth, Brian Dobson, Cole Howard, Jennifer Cameron, Jonathan Holmes, Lee Tockar, Lisa Durupt, Maya Kay, Michael Dobson', 'United States, India, South Korea, China', 'September 9, 2019', 2019, 'TV-PG', '90 min', 'Children & Family Movies, Comedies', 'Before planning an awesome wedding for his grandfather, a polar bear king must take back a stolen artifact from an evil archaeologist first.'), (1, 80117401, 'Movie', 'Jandino: Whatever it Takes', None, 'Jandino Asporaat', 'United Kingdom', 'September 9, 2016', 2016, 'TV-MA', '94 min', 'Stand-Up Comedy', 'Jandino Asporaat riffs on the challenges of raising kids and serenades the audience with a rousing rendition of \"Sex on Fire\" in his comedy show.'), (2, 70234439, 'TV Show', 'Transformers Prime', None, 'Peter Cullen, Sumalee Montano, Frank Welker, Jeffrey Combs, Kevin Michael Richardson, Tania Gunadi, Josh Keaton, Steve Blum, Andy Pessoa, Ernie Hudson, Daran Norris, Will Friedle', 'United States', 'September 8, 2018', 2013, 'TV-Y7-FV', '1 Season', \"Kids' TV\", 'With the help of three human allies, the Autobots once again protect Earth from the onslaught of the Decepticons and their leader, Megatron.'), (3, 80058654, 'TV Show', 'Transformers: Robots in Disguise', None, 'Will Friedle, Darren Criss, Constance Zimmer, Khary Payton, Mitchell Whitfield, Stuart Allan, Ted McGinley, Peter Cullen', 'United States', 'September 8, 2018', 2016, 'TV-Y7', '1 Season', \"Kids' TV\", 'When a prison ship crash unleashes hundreds of Decepticons on Earth, Bumblebee leads a new Autobot force to protect humankind.'), (4, 80125979, 'Movie', '#realityhigh', 'Fernando Lebrija', 'Nesta Cooper, Kate Walsh, John Michael Higgins, Keith Powers, Alicia Sanz, Jake Borelli, Kid Ink, Yousef Erakat, Rebekah Graf, Anne Winters, Peter Gilroy, Patrick Davis', 'United States', 'September 8, 2017', 2017, 'TV-14', '99 min', 'Comedies', 'When nerdy high schooler Dani finally attracts the interest of her longtime crush, she lands in the cross hairs of his ex, a social media celebrity.'), (5, 80163890, 'TV Show', 'Apaches', None, 'Alberto Ammann, Eloy Azorín, Verónica Echegui, Lucía Jiménez, Claudia Traisac', 'Spain', 'September 8, 2017', 2016, 'TV-MA', '1 Season', 'Crime TV Shows, International TV Shows, Spanish-Language TV Shows', 'A young journalist is forced into a life of crime to save his father and family in this series based on the novel by Miguel Sáez Carral.'), (6, 70304989, 'Movie', 'Automata', 'Gabe Ibáñez', 'Antonio Banderas, Dylan McDermott, Melanie Griffith, Birgitte Hjort Sørensen, Robert Forster, Christa Campbell, Tim McInnerny, Andy Nyman, David Ryall', 'Bulgaria, United States, Spain, Canada', 'September 8, 2017', 2014, 'R', '110 min', 'International Movies, Sci-Fi & Fantasy, Thrillers', 'In a dystopian future, an insurance adjuster for a tech company investigates a robot killed for violating protocol and discovers a global conspiracy.'), (7, 80164077, 'Movie', 'Fabrizio Copano: Solo pienso en mi', 'Rodrigo Toro, Francisco Schultz', 'Fabrizio Copano', 'Chile', 'September 8, 2017', 2017, 'TV-MA', '60 min', 'Stand-Up Comedy', 'Fabrizio Copano takes audience participation to the next level in this stand-up set while reflecting on sperm banks, family WhatsApp groups and more.')  ... displaying 10 of 6234 total bound parameter sets ...  (6232, 70281022, 'TV Show', \"A Young Doctor's Notebook and Other Stories\", None, 'Daniel Radcliffe, Jon Hamm, Adam Godley, Christopher Godwin, Rosie Cavaliero, Vicki Pepperdine, Margaret Clunie, Tim Steed, Shaun Pye', 'United Kingdom', None, 2013, 'TV-MA', '2 Seasons', 'British TV Shows, TV Comedies, TV Dramas', \"Set during the Russian Revolution, this comic miniseries is based on a doctor's memories of his early career working in an out-of-the-way village.\"), (6233, 70153404, 'TV Show', 'Friends', None, 'Jennifer Aniston, Courteney Cox, Lisa Kudrow, Matt LeBlanc, Matthew Perry, David Schwimmer', 'United States', None, 2003, 'TV-14', '10 Seasons', 'Classic & Cult TV, TV Comedies', 'This hit sitcom follows the merry misadventures of six 20-something pals as they navigate the pitfalls of work, life and love in 1990s Manhattan.'))\n",
            "2020-08-05 17:53:47,105 INFO sqlalchemy.engine.base.Engine COMMIT\n",
            "CPU times: user 460 ms, sys: 28.1 ms, total: 488 ms\n",
            "Wall time: 7.1 s\n"
          ],
          "name": "stdout"
        }
      ]
    },
    {
      "cell_type": "code",
      "metadata": {
        "id": "MpF0ndZJwJhR",
        "colab_type": "code",
        "colab": {
          "base_uri": "https://localhost:8080/",
          "height": 276
        },
        "outputId": "b02e119f-1139-4084-a5f6-cc956f28a0de"
      },
      "source": [
        "#Read first 10 values in table\n",
        "engine.connect().execute(netflix_titles.select().limit(10)).fetchall()"
      ],
      "execution_count": 39,
      "outputs": [
        {
          "output_type": "stream",
          "text": [
            "2020-08-05 17:54:35,366 INFO sqlalchemy.engine.base.Engine SELECT netflix_titles.show_id, netflix_titles.\"type\", netflix_titles.title, netflix_titles.director, netflix_titles.\"cast\", netflix_titles.country, netflix_titles.date_added, netflix_titles.release_year, netflix_titles.rating, netflix_titles.duration, netflix_titles.listed_in, netflix_titles.description \n",
            "FROM netflix_titles FETCH FIRST 10 ROWS ONLY\n",
            "2020-08-05 17:54:35,368 INFO sqlalchemy.engine.base.Engine ()\n"
          ],
          "name": "stdout"
        },
        {
          "output_type": "execute_result",
          "data": {
            "text/plain": [
              "[(81145628, 'Movie', 'Norm of the North: King Sized Adventure', 'Richard Finn, Tim Maltby', 'Alan Marriott, Andrew Toth, Brian Dobson, Cole Howard, Jennifer Cameron, Jonathan Holmes, Lee Tockar, Lisa Durupt, Maya Kay, Michael Dobson', 'United States, India, South Korea, China', 'September 9, 2019', 2019, 'TV-PG', '90 min', 'Children & Family Movies, Comedies', 'Before planning an awesome wedding for his grandfather, a polar bear king must take back a stolen artifact from an evil archaeologist first.'),\n",
              " (80117401, 'Movie', 'Jandino: Whatever it Takes', None, 'Jandino Asporaat', 'United Kingdom', 'September 9, 2016', 2016, 'TV-MA', '94 min', 'Stand-Up Comedy', 'Jandino Asporaat riffs on the challenges of raising kids and serenades the audience with a rousing rendition of \"Sex on Fire\" in his comedy show.'),\n",
              " (70234439, 'TV Show', 'Transformers Prime', None, 'Peter Cullen, Sumalee Montano, Frank Welker, Jeffrey Combs, Kevin Michael Richardson, Tania Gunadi, Josh Keaton, Steve Blum, Andy Pessoa, Ernie Hudson, Daran Norris, Will Friedle', 'United States', 'September 8, 2018', 2013, 'TV-Y7-FV', '1 Season', \"Kids' TV\", 'With the help of three human allies, the Autobots once again protect Earth from the onslaught of the Decepticons and their leader, Megatron.'),\n",
              " (80058654, 'TV Show', 'Transformers: Robots in Disguise', None, 'Will Friedle, Darren Criss, Constance Zimmer, Khary Payton, Mitchell Whitfield, Stuart Allan, Ted McGinley, Peter Cullen', 'United States', 'September 8, 2018', 2016, 'TV-Y7', '1 Season', \"Kids' TV\", 'When a prison ship crash unleashes hundreds of Decepticons on Earth, Bumblebee leads a new Autobot force to protect humankind.'),\n",
              " (80125979, 'Movie', '#realityhigh', 'Fernando Lebrija', 'Nesta Cooper, Kate Walsh, John Michael Higgins, Keith Powers, Alicia Sanz, Jake Borelli, Kid Ink, Yousef Erakat, Rebekah Graf, Anne Winters, Peter Gilroy, Patrick Davis', 'United States', 'September 8, 2017', 2017, 'TV-14', '99 min', 'Comedies', 'When nerdy high schooler Dani finally attracts the interest of her longtime crush, she lands in the cross hairs of his ex, a social media celebrity.'),\n",
              " (80163890, 'TV Show', 'Apaches', None, 'Alberto Ammann, Eloy Azorín, Verónica Echegui, Lucía Jiménez, Claudia Traisac', 'Spain', 'September 8, 2017', 2016, 'TV-MA', '1 Season', 'Crime TV Shows, International TV Shows, Spanish-Language TV Shows', 'A young journalist is forced into a life of crime to save his father and family in this series based on the novel by Miguel Sáez Carral.'),\n",
              " (70304989, 'Movie', 'Automata', 'Gabe Ibáñez', 'Antonio Banderas, Dylan McDermott, Melanie Griffith, Birgitte Hjort Sørensen, Robert Forster, Christa Campbell, Tim McInnerny, Andy Nyman, David Ryall', 'Bulgaria, United States, Spain, Canada', 'September 8, 2017', 2014, 'R', '110 min', 'International Movies, Sci-Fi & Fantasy, Thrillers', 'In a dystopian future, an insurance adjuster for a tech company investigates a robot killed for violating protocol and discovers a global conspiracy.'),\n",
              " (80164077, 'Movie', 'Fabrizio Copano: Solo pienso en mi', 'Rodrigo Toro, Francisco Schultz', 'Fabrizio Copano', 'Chile', 'September 8, 2017', 2017, 'TV-MA', '60 min', 'Stand-Up Comedy', 'Fabrizio Copano takes audience participation to the next level in this stand-up set while reflecting on sperm banks, family WhatsApp groups and more.'),\n",
              " (80117902, 'TV Show', 'Fire Chasers', None, None, 'United States', 'September 8, 2017', 2017, 'TV-MA', '1 Season', 'Docuseries, Science & Nature TV', \"As California's 2016 fire season rages, brave backcountry firefighters race to put out the flames, protect homes and save lives in this docuseries.\"),\n",
              " (70304990, 'Movie', 'Good People', 'Henrik Ruben Genz', 'James Franco, Kate Hudson, Tom Wilkinson, Omar Sy, Sam Spruell, Anna Friel, Thomas Arnold, Oliver Dimsdale, Diana Hardcastle, Michael Jibson, Diarmaid Murtagh', 'United States, United Kingdom, Denmark, Sweden', 'September 8, 2017', 2014, 'R', '90 min', 'Action & Adventure, Thrillers', \"A struggling couple can't believe their luck when they find a stash of money in the apartment of a neighbor who was recently murdered.\")]"
            ]
          },
          "metadata": {
            "tags": []
          },
          "execution_count": 39
        }
      ]
    },
    {
      "cell_type": "code",
      "metadata": {
        "id": "gpTiG2POcJhi",
        "colab_type": "code",
        "colab": {
          "base_uri": "https://localhost:8080/",
          "height": 90
        },
        "outputId": "fc356aa8-4308-4594-b35e-26e959cd996a"
      },
      "source": [
        "#Delete table\n",
        "netflix_titles.drop(engine)"
      ],
      "execution_count": 27,
      "outputs": [
        {
          "output_type": "stream",
          "text": [
            "2020-08-05 17:44:32,615 INFO sqlalchemy.engine.base.Engine \n",
            "DROP TABLE netflix_titles\n",
            "2020-08-05 17:44:32,616 INFO sqlalchemy.engine.base.Engine ()\n",
            "2020-08-05 17:44:32,692 INFO sqlalchemy.engine.base.Engine COMMIT\n"
          ],
          "name": "stdout"
        }
      ]
    },
    {
      "cell_type": "code",
      "metadata": {
        "id": "TCSuBqbkwqyC",
        "colab_type": "code",
        "colab": {}
      },
      "source": [
        "#Close connection to database\n",
        "engine.connect().close()"
      ],
      "execution_count": null,
      "outputs": []
    }
  ]
}
